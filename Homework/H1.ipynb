{
 "cells": [
  {
   "cell_type": "code",
   "execution_count": 30,
   "id": "a093243c",
   "metadata": {},
   "outputs": [],
   "source": [
    "import pandas as pd\n",
    "import numpy as np "
   ]
  },
  {
   "cell_type": "markdown",
   "id": "c4abf7a0",
   "metadata": {},
   "source": [
    "# Q1. Pandas version"
   ]
  },
  {
   "cell_type": "code",
   "execution_count": 4,
   "id": "0a305307",
   "metadata": {},
   "outputs": [
    {
     "data": {
      "text/plain": [
       "'2.3.2'"
      ]
     },
     "execution_count": 4,
     "metadata": {},
     "output_type": "execute_result"
    }
   ],
   "source": [
    "pd.__version__"
   ]
  },
  {
   "cell_type": "code",
   "execution_count": 5,
   "id": "dd3a03d2",
   "metadata": {},
   "outputs": [
    {
     "data": {
      "application/vnd.microsoft.datawrangler.viewer.v0+json": {
       "columns": [
        {
         "name": "index",
         "rawType": "int64",
         "type": "integer"
        },
        {
         "name": "engine_displacement",
         "rawType": "int64",
         "type": "integer"
        },
        {
         "name": "num_cylinders",
         "rawType": "float64",
         "type": "float"
        },
        {
         "name": "horsepower",
         "rawType": "float64",
         "type": "float"
        },
        {
         "name": "vehicle_weight",
         "rawType": "float64",
         "type": "float"
        },
        {
         "name": "acceleration",
         "rawType": "float64",
         "type": "float"
        },
        {
         "name": "model_year",
         "rawType": "int64",
         "type": "integer"
        },
        {
         "name": "origin",
         "rawType": "object",
         "type": "string"
        },
        {
         "name": "fuel_type",
         "rawType": "object",
         "type": "string"
        },
        {
         "name": "drivetrain",
         "rawType": "object",
         "type": "string"
        },
        {
         "name": "num_doors",
         "rawType": "float64",
         "type": "float"
        },
        {
         "name": "fuel_efficiency_mpg",
         "rawType": "float64",
         "type": "float"
        }
       ],
       "ref": "5bb90d46-e37e-4ecf-ac5b-f31293a1418b",
       "rows": [
        [
         "0",
         "170",
         "3.0",
         "159.0",
         "3413.433758606219",
         "17.7",
         "2003",
         "Europe",
         "Gasoline",
         "All-wheel drive",
         "0.0",
         "13.231728906241411"
        ],
        [
         "1",
         "130",
         "5.0",
         "97.0",
         "3149.664934220036",
         "17.8",
         "2007",
         "USA",
         "Gasoline",
         "Front-wheel drive",
         "0.0",
         "13.688217435463793"
        ],
        [
         "2",
         "170",
         null,
         "78.0",
         "3079.03899736884",
         "15.1",
         "2018",
         "Europe",
         "Gasoline",
         "Front-wheel drive",
         "0.0",
         "14.246340998160866"
        ],
        [
         "3",
         "220",
         "4.0",
         null,
         "2542.392401828378",
         "20.2",
         "2009",
         "USA",
         "Diesel",
         "All-wheel drive",
         "2.0",
         "16.91273559598635"
        ],
        [
         "4",
         "210",
         "1.0",
         "140.0",
         "3460.870989989018",
         "14.4",
         "2009",
         "Europe",
         "Gasoline",
         "All-wheel drive",
         "2.0",
         "12.488369121964562"
        ],
        [
         "5",
         "190",
         "3.0",
         null,
         "2484.883986036068",
         "14.7",
         "2008",
         "Europe",
         "Gasoline",
         "All-wheel drive",
         "-1.0",
         "17.271818372724237"
        ],
        [
         "6",
         "240",
         "7.0",
         "127.0",
         "3006.5422872171457",
         "22.2",
         "2012",
         "USA",
         "Gasoline",
         "Front-wheel drive",
         "1.0",
         "13.210412112385608"
        ],
        [
         "7",
         "150",
         "4.0",
         "239.0",
         "3638.6577802809",
         "17.3",
         "2020",
         "USA",
         "Diesel",
         "All-wheel drive",
         "1.0",
         "12.848883861524026"
        ],
        [
         "8",
         "250",
         "1.0",
         "174.0",
         "2714.219309645285",
         "10.3",
         "2016",
         "Asia",
         "Diesel",
         "Front-wheel drive",
         "-1.0",
         "16.823553726916543"
        ],
        [
         "9",
         "150",
         "4.0",
         "123.0",
         "3509.036569100613",
         "10.2",
         "2005",
         "USA",
         "Gasoline",
         "Front-wheel drive",
         "-1.0",
         "12.298354983681604"
        ],
        [
         "10",
         "230",
         "5.0",
         "100.0",
         "3111.810181389172",
         "15.4",
         "2014",
         "Europe",
         "Diesel",
         "All-wheel drive",
         "0.0",
         "13.386605047290962"
        ],
        [
         "11",
         "150",
         "5.0",
         null,
         "1967.2004212521003",
         "12.6",
         "2014",
         "USA",
         "Diesel",
         "Front-wheel drive",
         "2.0",
         "20.50444671989053"
        ],
        [
         "12",
         "320",
         "5.0",
         "145.0",
         "2783.8689742437728",
         "15.1",
         "2010",
         "Asia",
         "Diesel",
         "All-wheel drive",
         "1.0",
         "16.17581958009284"
        ],
        [
         "13",
         "170",
         "1.0",
         "193.0",
         "2274.7351905647565",
         "17.5",
         "2000",
         "Europe",
         "Diesel",
         "Front-wheel drive",
         "0.0",
         "18.792742345719034"
        ],
        [
         "14",
         "200",
         "6.0",
         "160.0",
         "3582.687367715132",
         "14.9",
         "2007",
         "Asia",
         "Diesel",
         "All-wheel drive",
         "0.0",
         "11.871091010445811"
        ],
        [
         "15",
         "220",
         "4.0",
         "179.0",
         "2631.0652035914763",
         "16.0",
         "2006",
         "USA",
         "Gasoline",
         "All-wheel drive",
         "1.0",
         "16.756081170464494"
        ],
        [
         "16",
         "160",
         "3.0",
         "180.0",
         "2673.5529409560954",
         "8.5",
         "2013",
         "Europe",
         "Diesel",
         "All-wheel drive",
         "-1.0",
         "17.516175727210882"
        ],
        [
         "17",
         "190",
         "6.0",
         "132.0",
         "2427.3118562098525",
         "17.8",
         "2011",
         "USA",
         "Diesel",
         "Front-wheel drive",
         "-1.0",
         "17.65868533963579"
        ],
        [
         "18",
         "250",
         "2.0",
         "110.0",
         "2971.2145745989487",
         null,
         "2003",
         "Europe",
         "Gasoline",
         "Front-wheel drive",
         "1.0",
         "14.735962194497768"
        ],
        [
         "19",
         "180",
         "1.0",
         "126.0",
         "2986.958657420011",
         "17.9",
         "2004",
         "Europe",
         "Gasoline",
         "All-wheel drive",
         "-1.0",
         "15.097137105104313"
        ],
        [
         "20",
         "150",
         "3.0",
         "197.0",
         "2231.8081416029345",
         "18.7",
         "2011",
         "Asia",
         "Gasoline",
         "Front-wheel drive",
         "1.0",
         "18.88908257097108"
        ],
        [
         "21",
         "160",
         "4.0",
         "133.0",
         "2659.431450757995",
         null,
         "2016",
         "Asia",
         "Gasoline",
         "Front-wheel drive",
         "-1.0",
         "16.077730214491176"
        ],
        [
         "22",
         "190",
         "1.0",
         "144.0",
         "2438.842125555246",
         "16.4",
         "2016",
         "Europe",
         "Diesel",
         "Front-wheel drive",
         "1.0",
         "17.08040493384839"
        ],
        [
         "23",
         "230",
         "2.0",
         "160.0",
         "3342.6060274901347",
         "12.9",
         "2009",
         "Europe",
         "Gasoline",
         "All-wheel drive",
         "0.0",
         "13.7383805846665"
        ],
        [
         "24",
         "260",
         "3.0",
         "156.0",
         "4267.390497388771",
         "20.0",
         "2004",
         "USA",
         "Diesel",
         "Front-wheel drive",
         "1.0",
         "7.853194329416397"
        ],
        [
         "25",
         "210",
         "6.0",
         "157.0",
         "2860.206191293806",
         "12.6",
         "2013",
         "USA",
         "Gasoline",
         "All-wheel drive",
         null,
         "15.906421807842523"
        ],
        [
         "26",
         "180",
         "8.0",
         "160.0",
         "3080.170161717871",
         "10.6",
         "2002",
         "USA",
         "Diesel",
         "All-wheel drive",
         "2.0",
         "15.089880004688071"
        ],
        [
         "27",
         "120",
         "6.0",
         "206.0",
         "3467.355490131792",
         "18.3",
         "2016",
         "USA",
         "Gasoline",
         "Front-wheel drive",
         "-1.0",
         "13.04899290040456"
        ],
        [
         "28",
         "220",
         "4.0",
         "154.0",
         "3335.0681874881448",
         "14.8",
         "2005",
         "USA",
         "Diesel",
         "All-wheel drive",
         "-1.0",
         "13.411265956371402"
        ],
        [
         "29",
         "230",
         "4.0",
         "132.0",
         "2479.7829741497544",
         "15.6",
         "2014",
         "Europe",
         "Diesel",
         "All-wheel drive",
         "0.0",
         "17.34901126810939"
        ],
        [
         "30",
         "280",
         "5.0",
         "140.0",
         "2598.598215530185",
         "17.1",
         "2022",
         "USA",
         "Gasoline",
         "Front-wheel drive",
         "0.0",
         "16.852517863788954"
        ],
        [
         "31",
         "160",
         "4.0",
         "153.0",
         "3106.306111675653",
         "15.8",
         "2000",
         "Europe",
         "Gasoline",
         "All-wheel drive",
         "-1.0",
         "14.04564452468013"
        ],
        [
         "32",
         "40",
         "5.0",
         "136.0",
         "3619.370730176663",
         "19.5",
         "2017",
         "Europe",
         "Gasoline",
         "All-wheel drive",
         "-1.0",
         "11.02937073424243"
        ],
        [
         "33",
         "200",
         "4.0",
         "168.0",
         "2946.9791685788814",
         "18.6",
         "2001",
         "USA",
         "Diesel",
         "Front-wheel drive",
         "0.0",
         "15.76758556294088"
        ],
        [
         "34",
         "150",
         "2.0",
         "149.0",
         "2844.2275338857653",
         "17.3",
         "2014",
         "Asia",
         "Diesel",
         "Front-wheel drive",
         "0.0",
         "15.353788201522017"
        ],
        [
         "35",
         "160",
         "3.0",
         "127.0",
         "2961.158679125447",
         "14.8",
         "2004",
         "USA",
         "Gasoline",
         "Front-wheel drive",
         "0.0",
         "14.671771671571785"
        ],
        [
         "36",
         "200",
         "5.0",
         "143.0",
         "3040.2365213942894",
         "14.2",
         "2006",
         "USA",
         "Diesel",
         "All-wheel drive",
         "-1.0",
         "15.01132504011616"
        ],
        [
         "37",
         "80",
         "3.0",
         "132.0",
         "3444.8921095893515",
         "17.2",
         "2023",
         "Europe",
         "Gasoline",
         "Front-wheel drive",
         "-1.0",
         "11.704658142342613"
        ],
        [
         "38",
         "190",
         "5.0",
         "158.0",
         "3761.9940381922206",
         null,
         "2019",
         "Asia",
         "Gasoline",
         "Front-wheel drive",
         "1.0",
         "11.645724047561528"
        ],
        [
         "39",
         "240",
         "6.0",
         "176.0",
         "2676.886843633655",
         "14.5",
         "2002",
         "Europe",
         "Gasoline",
         "Front-wheel drive",
         "-1.0",
         "17.322851581349216"
        ],
        [
         "40",
         "110",
         "1.0",
         "108.0",
         "2292.675257052191",
         "14.5",
         "2015",
         "Europe",
         "Gasoline",
         "Front-wheel drive",
         "0.0",
         "18.63000885913826"
        ],
        [
         "41",
         "230",
         "2.0",
         "125.0",
         "2563.9027023821623",
         "18.1",
         "2008",
         "Europe",
         "Gasoline",
         "All-wheel drive",
         "0.0",
         "16.890273538222665"
        ],
        [
         "42",
         "240",
         "4.0",
         "123.0",
         "2612.0154112627533",
         "10.5",
         "2013",
         "USA",
         "Diesel",
         "Front-wheel drive",
         "-1.0",
         "16.416020840488873"
        ],
        [
         "43",
         "170",
         "4.0",
         "123.0",
         "2957.6811098887447",
         "14.4",
         "2012",
         "Asia",
         "Diesel",
         "All-wheel drive",
         "-1.0",
         "15.039796931634644"
        ],
        [
         "44",
         "240",
         "2.0",
         "142.0",
         "2544.516801769428",
         "12.9",
         "2016",
         "Asia",
         "Gasoline",
         "All-wheel drive",
         "0.0",
         "17.600327865900464"
        ],
        [
         "45",
         "380",
         null,
         "139.0",
         "1833.1964030710933",
         "16.7",
         "2022",
         "USA",
         "Gasoline",
         "Front-wheel drive",
         "-1.0",
         "20.728616942029674"
        ],
        [
         "46",
         "190",
         "4.0",
         "170.0",
         "2607.6950038058926",
         "20.8",
         "2019",
         "USA",
         "Diesel",
         "Front-wheel drive",
         "1.0",
         "15.932777017483826"
        ],
        [
         "47",
         "270",
         "1.0",
         "135.0",
         "3858.9146336751146",
         null,
         "2006",
         "Europe",
         "Gasoline",
         "Front-wheel drive",
         "2.0",
         "10.0898180828745"
        ],
        [
         "48",
         "190",
         "5.0",
         "202.0",
         "2531.185247040718",
         "16.2",
         "2016",
         "Asia",
         "Gasoline",
         "All-wheel drive",
         "0.0",
         "17.983505227568678"
        ],
        [
         "49",
         "140",
         "7.0",
         "99.0",
         "3602.664482911108",
         "17.0",
         "2015",
         "Europe",
         "Gasoline",
         "All-wheel drive",
         "1.0",
         "11.25726765887053"
        ]
       ],
       "shape": {
        "columns": 11,
        "rows": 9704
       }
      },
      "text/html": [
       "<div>\n",
       "<style scoped>\n",
       "    .dataframe tbody tr th:only-of-type {\n",
       "        vertical-align: middle;\n",
       "    }\n",
       "\n",
       "    .dataframe tbody tr th {\n",
       "        vertical-align: top;\n",
       "    }\n",
       "\n",
       "    .dataframe thead th {\n",
       "        text-align: right;\n",
       "    }\n",
       "</style>\n",
       "<table border=\"1\" class=\"dataframe\">\n",
       "  <thead>\n",
       "    <tr style=\"text-align: right;\">\n",
       "      <th></th>\n",
       "      <th>engine_displacement</th>\n",
       "      <th>num_cylinders</th>\n",
       "      <th>horsepower</th>\n",
       "      <th>vehicle_weight</th>\n",
       "      <th>acceleration</th>\n",
       "      <th>model_year</th>\n",
       "      <th>origin</th>\n",
       "      <th>fuel_type</th>\n",
       "      <th>drivetrain</th>\n",
       "      <th>num_doors</th>\n",
       "      <th>fuel_efficiency_mpg</th>\n",
       "    </tr>\n",
       "  </thead>\n",
       "  <tbody>\n",
       "    <tr>\n",
       "      <th>0</th>\n",
       "      <td>170</td>\n",
       "      <td>3.0</td>\n",
       "      <td>159.0</td>\n",
       "      <td>3413.433759</td>\n",
       "      <td>17.7</td>\n",
       "      <td>2003</td>\n",
       "      <td>Europe</td>\n",
       "      <td>Gasoline</td>\n",
       "      <td>All-wheel drive</td>\n",
       "      <td>0.0</td>\n",
       "      <td>13.231729</td>\n",
       "    </tr>\n",
       "    <tr>\n",
       "      <th>1</th>\n",
       "      <td>130</td>\n",
       "      <td>5.0</td>\n",
       "      <td>97.0</td>\n",
       "      <td>3149.664934</td>\n",
       "      <td>17.8</td>\n",
       "      <td>2007</td>\n",
       "      <td>USA</td>\n",
       "      <td>Gasoline</td>\n",
       "      <td>Front-wheel drive</td>\n",
       "      <td>0.0</td>\n",
       "      <td>13.688217</td>\n",
       "    </tr>\n",
       "    <tr>\n",
       "      <th>2</th>\n",
       "      <td>170</td>\n",
       "      <td>NaN</td>\n",
       "      <td>78.0</td>\n",
       "      <td>3079.038997</td>\n",
       "      <td>15.1</td>\n",
       "      <td>2018</td>\n",
       "      <td>Europe</td>\n",
       "      <td>Gasoline</td>\n",
       "      <td>Front-wheel drive</td>\n",
       "      <td>0.0</td>\n",
       "      <td>14.246341</td>\n",
       "    </tr>\n",
       "    <tr>\n",
       "      <th>3</th>\n",
       "      <td>220</td>\n",
       "      <td>4.0</td>\n",
       "      <td>NaN</td>\n",
       "      <td>2542.392402</td>\n",
       "      <td>20.2</td>\n",
       "      <td>2009</td>\n",
       "      <td>USA</td>\n",
       "      <td>Diesel</td>\n",
       "      <td>All-wheel drive</td>\n",
       "      <td>2.0</td>\n",
       "      <td>16.912736</td>\n",
       "    </tr>\n",
       "    <tr>\n",
       "      <th>4</th>\n",
       "      <td>210</td>\n",
       "      <td>1.0</td>\n",
       "      <td>140.0</td>\n",
       "      <td>3460.870990</td>\n",
       "      <td>14.4</td>\n",
       "      <td>2009</td>\n",
       "      <td>Europe</td>\n",
       "      <td>Gasoline</td>\n",
       "      <td>All-wheel drive</td>\n",
       "      <td>2.0</td>\n",
       "      <td>12.488369</td>\n",
       "    </tr>\n",
       "    <tr>\n",
       "      <th>...</th>\n",
       "      <td>...</td>\n",
       "      <td>...</td>\n",
       "      <td>...</td>\n",
       "      <td>...</td>\n",
       "      <td>...</td>\n",
       "      <td>...</td>\n",
       "      <td>...</td>\n",
       "      <td>...</td>\n",
       "      <td>...</td>\n",
       "      <td>...</td>\n",
       "      <td>...</td>\n",
       "    </tr>\n",
       "    <tr>\n",
       "      <th>9699</th>\n",
       "      <td>140</td>\n",
       "      <td>5.0</td>\n",
       "      <td>164.0</td>\n",
       "      <td>2981.107371</td>\n",
       "      <td>17.3</td>\n",
       "      <td>2013</td>\n",
       "      <td>Europe</td>\n",
       "      <td>Diesel</td>\n",
       "      <td>Front-wheel drive</td>\n",
       "      <td>NaN</td>\n",
       "      <td>15.101802</td>\n",
       "    </tr>\n",
       "    <tr>\n",
       "      <th>9700</th>\n",
       "      <td>180</td>\n",
       "      <td>NaN</td>\n",
       "      <td>154.0</td>\n",
       "      <td>2439.525729</td>\n",
       "      <td>15.0</td>\n",
       "      <td>2004</td>\n",
       "      <td>USA</td>\n",
       "      <td>Gasoline</td>\n",
       "      <td>All-wheel drive</td>\n",
       "      <td>0.0</td>\n",
       "      <td>17.962326</td>\n",
       "    </tr>\n",
       "    <tr>\n",
       "      <th>9701</th>\n",
       "      <td>220</td>\n",
       "      <td>2.0</td>\n",
       "      <td>138.0</td>\n",
       "      <td>2583.471318</td>\n",
       "      <td>15.1</td>\n",
       "      <td>2008</td>\n",
       "      <td>USA</td>\n",
       "      <td>Diesel</td>\n",
       "      <td>All-wheel drive</td>\n",
       "      <td>-1.0</td>\n",
       "      <td>17.186587</td>\n",
       "    </tr>\n",
       "    <tr>\n",
       "      <th>9702</th>\n",
       "      <td>230</td>\n",
       "      <td>4.0</td>\n",
       "      <td>177.0</td>\n",
       "      <td>2905.527390</td>\n",
       "      <td>19.4</td>\n",
       "      <td>2011</td>\n",
       "      <td>USA</td>\n",
       "      <td>Diesel</td>\n",
       "      <td>Front-wheel drive</td>\n",
       "      <td>1.0</td>\n",
       "      <td>15.331551</td>\n",
       "    </tr>\n",
       "    <tr>\n",
       "      <th>9703</th>\n",
       "      <td>270</td>\n",
       "      <td>3.0</td>\n",
       "      <td>140.0</td>\n",
       "      <td>2908.043477</td>\n",
       "      <td>14.7</td>\n",
       "      <td>2005</td>\n",
       "      <td>Asia</td>\n",
       "      <td>Diesel</td>\n",
       "      <td>All-wheel drive</td>\n",
       "      <td>-1.0</td>\n",
       "      <td>14.884467</td>\n",
       "    </tr>\n",
       "  </tbody>\n",
       "</table>\n",
       "<p>9704 rows × 11 columns</p>\n",
       "</div>"
      ],
      "text/plain": [
       "      engine_displacement  num_cylinders  horsepower  vehicle_weight  \\\n",
       "0                     170            3.0       159.0     3413.433759   \n",
       "1                     130            5.0        97.0     3149.664934   \n",
       "2                     170            NaN        78.0     3079.038997   \n",
       "3                     220            4.0         NaN     2542.392402   \n",
       "4                     210            1.0       140.0     3460.870990   \n",
       "...                   ...            ...         ...             ...   \n",
       "9699                  140            5.0       164.0     2981.107371   \n",
       "9700                  180            NaN       154.0     2439.525729   \n",
       "9701                  220            2.0       138.0     2583.471318   \n",
       "9702                  230            4.0       177.0     2905.527390   \n",
       "9703                  270            3.0       140.0     2908.043477   \n",
       "\n",
       "      acceleration  model_year  origin fuel_type         drivetrain  \\\n",
       "0             17.7        2003  Europe  Gasoline    All-wheel drive   \n",
       "1             17.8        2007     USA  Gasoline  Front-wheel drive   \n",
       "2             15.1        2018  Europe  Gasoline  Front-wheel drive   \n",
       "3             20.2        2009     USA    Diesel    All-wheel drive   \n",
       "4             14.4        2009  Europe  Gasoline    All-wheel drive   \n",
       "...            ...         ...     ...       ...                ...   \n",
       "9699          17.3        2013  Europe    Diesel  Front-wheel drive   \n",
       "9700          15.0        2004     USA  Gasoline    All-wheel drive   \n",
       "9701          15.1        2008     USA    Diesel    All-wheel drive   \n",
       "9702          19.4        2011     USA    Diesel  Front-wheel drive   \n",
       "9703          14.7        2005    Asia    Diesel    All-wheel drive   \n",
       "\n",
       "      num_doors  fuel_efficiency_mpg  \n",
       "0           0.0            13.231729  \n",
       "1           0.0            13.688217  \n",
       "2           0.0            14.246341  \n",
       "3           2.0            16.912736  \n",
       "4           2.0            12.488369  \n",
       "...         ...                  ...  \n",
       "9699        NaN            15.101802  \n",
       "9700        0.0            17.962326  \n",
       "9701       -1.0            17.186587  \n",
       "9702        1.0            15.331551  \n",
       "9703       -1.0            14.884467  \n",
       "\n",
       "[9704 rows x 11 columns]"
      ]
     },
     "execution_count": 5,
     "metadata": {},
     "output_type": "execute_result"
    }
   ],
   "source": [
    "data = pd.read_csv('Data\\RAW_Data\\car_fuel_efficiency.csv')\n",
    "data"
   ]
  },
  {
   "cell_type": "markdown",
   "id": "be709dfd",
   "metadata": {},
   "source": [
    "# Q2. Records count"
   ]
  },
  {
   "cell_type": "code",
   "execution_count": 6,
   "id": "a7e225f9",
   "metadata": {},
   "outputs": [
    {
     "name": "stdout",
     "output_type": "stream",
     "text": [
      "<class 'pandas.core.frame.DataFrame'>\n",
      "RangeIndex: 9704 entries, 0 to 9703\n",
      "Data columns (total 11 columns):\n",
      " #   Column               Non-Null Count  Dtype  \n",
      "---  ------               --------------  -----  \n",
      " 0   engine_displacement  9704 non-null   int64  \n",
      " 1   num_cylinders        9222 non-null   float64\n",
      " 2   horsepower           8996 non-null   float64\n",
      " 3   vehicle_weight       9704 non-null   float64\n",
      " 4   acceleration         8774 non-null   float64\n",
      " 5   model_year           9704 non-null   int64  \n",
      " 6   origin               9704 non-null   object \n",
      " 7   fuel_type            9704 non-null   object \n",
      " 8   drivetrain           9704 non-null   object \n",
      " 9   num_doors            9202 non-null   float64\n",
      " 10  fuel_efficiency_mpg  9704 non-null   float64\n",
      "dtypes: float64(6), int64(2), object(3)\n",
      "memory usage: 834.1+ KB\n"
     ]
    }
   ],
   "source": [
    "data.info()"
   ]
  },
  {
   "cell_type": "markdown",
   "id": "938f79e0",
   "metadata": {},
   "source": [
    "# Q3. Fuel types"
   ]
  },
  {
   "cell_type": "code",
   "execution_count": 7,
   "id": "32e2b0b6",
   "metadata": {},
   "outputs": [
    {
     "data": {
      "application/vnd.microsoft.datawrangler.viewer.v0+json": {
       "columns": [
        {
         "name": "fuel_type",
         "rawType": "object",
         "type": "string"
        },
        {
         "name": "count",
         "rawType": "int64",
         "type": "integer"
        }
       ],
       "ref": "71540fdc-dfd1-4684-b648-e665602211b9",
       "rows": [
        [
         "Gasoline",
         "4898"
        ],
        [
         "Diesel",
         "4806"
        ]
       ],
       "shape": {
        "columns": 1,
        "rows": 2
       }
      },
      "text/plain": [
       "fuel_type\n",
       "Gasoline    4898\n",
       "Diesel      4806\n",
       "Name: count, dtype: int64"
      ]
     },
     "execution_count": 7,
     "metadata": {},
     "output_type": "execute_result"
    }
   ],
   "source": [
    "data['fuel_type'].value_counts()"
   ]
  },
  {
   "cell_type": "markdown",
   "id": "03157df2",
   "metadata": {},
   "source": [
    "# Q4. Missing values\n"
   ]
  },
  {
   "cell_type": "code",
   "execution_count": 8,
   "id": "ec34bf35",
   "metadata": {},
   "outputs": [
    {
     "data": {
      "application/vnd.microsoft.datawrangler.viewer.v0+json": {
       "columns": [
        {
         "name": "index",
         "rawType": "object",
         "type": "string"
        },
        {
         "name": "0",
         "rawType": "int64",
         "type": "integer"
        }
       ],
       "ref": "ec535c2f-d417-453b-b7d5-8f4b4da6a66b",
       "rows": [
        [
         "engine_displacement",
         "0"
        ],
        [
         "num_cylinders",
         "482"
        ],
        [
         "horsepower",
         "708"
        ],
        [
         "vehicle_weight",
         "0"
        ],
        [
         "acceleration",
         "930"
        ],
        [
         "model_year",
         "0"
        ],
        [
         "origin",
         "0"
        ],
        [
         "fuel_type",
         "0"
        ],
        [
         "drivetrain",
         "0"
        ],
        [
         "num_doors",
         "502"
        ],
        [
         "fuel_efficiency_mpg",
         "0"
        ]
       ],
       "shape": {
        "columns": 1,
        "rows": 11
       }
      },
      "text/plain": [
       "engine_displacement      0\n",
       "num_cylinders          482\n",
       "horsepower             708\n",
       "vehicle_weight           0\n",
       "acceleration           930\n",
       "model_year               0\n",
       "origin                   0\n",
       "fuel_type                0\n",
       "drivetrain               0\n",
       "num_doors              502\n",
       "fuel_efficiency_mpg      0\n",
       "dtype: int64"
      ]
     },
     "execution_count": 8,
     "metadata": {},
     "output_type": "execute_result"
    }
   ],
   "source": [
    "data.isnull().sum()"
   ]
  },
  {
   "cell_type": "markdown",
   "id": "094ef456",
   "metadata": {},
   "source": [
    "# Q5. Max fuel efficiency"
   ]
  },
  {
   "cell_type": "code",
   "execution_count": 15,
   "id": "1f607bd5",
   "metadata": {},
   "outputs": [
    {
     "data": {
      "application/vnd.microsoft.datawrangler.viewer.v0+json": {
       "columns": [
        {
         "name": "index",
         "rawType": "int64",
         "type": "integer"
        },
        {
         "name": "engine_displacement",
         "rawType": "int64",
         "type": "integer"
        },
        {
         "name": "num_cylinders",
         "rawType": "float64",
         "type": "float"
        },
        {
         "name": "horsepower",
         "rawType": "float64",
         "type": "float"
        },
        {
         "name": "vehicle_weight",
         "rawType": "float64",
         "type": "float"
        },
        {
         "name": "acceleration",
         "rawType": "float64",
         "type": "float"
        },
        {
         "name": "model_year",
         "rawType": "int64",
         "type": "integer"
        },
        {
         "name": "origin",
         "rawType": "object",
         "type": "string"
        },
        {
         "name": "fuel_type",
         "rawType": "object",
         "type": "string"
        },
        {
         "name": "drivetrain",
         "rawType": "object",
         "type": "string"
        },
        {
         "name": "num_doors",
         "rawType": "float64",
         "type": "float"
        },
        {
         "name": "fuel_efficiency_mpg",
         "rawType": "float64",
         "type": "float"
        }
       ],
       "ref": "f14b8cb2-f6dc-4efb-961a-f06c36b0c461",
       "rows": [
        [
         "0",
         "170",
         "3.0",
         "159.0",
         "3413.433758606219",
         "17.7",
         "2003",
         "Europe",
         "Gasoline",
         "All-wheel drive",
         "0.0",
         "13.231728906241411"
        ],
        [
         "1",
         "130",
         "5.0",
         "97.0",
         "3149.664934220036",
         "17.8",
         "2007",
         "USA",
         "Gasoline",
         "Front-wheel drive",
         "0.0",
         "13.688217435463793"
        ],
        [
         "2",
         "170",
         null,
         "78.0",
         "3079.03899736884",
         "15.1",
         "2018",
         "Europe",
         "Gasoline",
         "Front-wheel drive",
         "0.0",
         "14.246340998160866"
        ],
        [
         "3",
         "220",
         "4.0",
         null,
         "2542.392401828378",
         "20.2",
         "2009",
         "USA",
         "Diesel",
         "All-wheel drive",
         "2.0",
         "16.91273559598635"
        ],
        [
         "4",
         "210",
         "1.0",
         "140.0",
         "3460.870989989018",
         "14.4",
         "2009",
         "Europe",
         "Gasoline",
         "All-wheel drive",
         "2.0",
         "12.488369121964562"
        ],
        [
         "5",
         "190",
         "3.0",
         null,
         "2484.883986036068",
         "14.7",
         "2008",
         "Europe",
         "Gasoline",
         "All-wheel drive",
         "-1.0",
         "17.271818372724237"
        ],
        [
         "6",
         "240",
         "7.0",
         "127.0",
         "3006.5422872171457",
         "22.2",
         "2012",
         "USA",
         "Gasoline",
         "Front-wheel drive",
         "1.0",
         "13.210412112385608"
        ],
        [
         "7",
         "150",
         "4.0",
         "239.0",
         "3638.6577802809",
         "17.3",
         "2020",
         "USA",
         "Diesel",
         "All-wheel drive",
         "1.0",
         "12.848883861524026"
        ],
        [
         "8",
         "250",
         "1.0",
         "174.0",
         "2714.219309645285",
         "10.3",
         "2016",
         "Asia",
         "Diesel",
         "Front-wheel drive",
         "-1.0",
         "16.823553726916543"
        ],
        [
         "9",
         "150",
         "4.0",
         "123.0",
         "3509.036569100613",
         "10.2",
         "2005",
         "USA",
         "Gasoline",
         "Front-wheel drive",
         "-1.0",
         "12.298354983681604"
        ],
        [
         "10",
         "230",
         "5.0",
         "100.0",
         "3111.810181389172",
         "15.4",
         "2014",
         "Europe",
         "Diesel",
         "All-wheel drive",
         "0.0",
         "13.386605047290962"
        ],
        [
         "11",
         "150",
         "5.0",
         null,
         "1967.2004212521003",
         "12.6",
         "2014",
         "USA",
         "Diesel",
         "Front-wheel drive",
         "2.0",
         "20.50444671989053"
        ],
        [
         "12",
         "320",
         "5.0",
         "145.0",
         "2783.8689742437728",
         "15.1",
         "2010",
         "Asia",
         "Diesel",
         "All-wheel drive",
         "1.0",
         "16.17581958009284"
        ],
        [
         "13",
         "170",
         "1.0",
         "193.0",
         "2274.7351905647565",
         "17.5",
         "2000",
         "Europe",
         "Diesel",
         "Front-wheel drive",
         "0.0",
         "18.792742345719034"
        ],
        [
         "14",
         "200",
         "6.0",
         "160.0",
         "3582.687367715132",
         "14.9",
         "2007",
         "Asia",
         "Diesel",
         "All-wheel drive",
         "0.0",
         "11.871091010445811"
        ],
        [
         "15",
         "220",
         "4.0",
         "179.0",
         "2631.0652035914763",
         "16.0",
         "2006",
         "USA",
         "Gasoline",
         "All-wheel drive",
         "1.0",
         "16.756081170464494"
        ],
        [
         "16",
         "160",
         "3.0",
         "180.0",
         "2673.5529409560954",
         "8.5",
         "2013",
         "Europe",
         "Diesel",
         "All-wheel drive",
         "-1.0",
         "17.516175727210882"
        ],
        [
         "17",
         "190",
         "6.0",
         "132.0",
         "2427.3118562098525",
         "17.8",
         "2011",
         "USA",
         "Diesel",
         "Front-wheel drive",
         "-1.0",
         "17.65868533963579"
        ],
        [
         "18",
         "250",
         "2.0",
         "110.0",
         "2971.2145745989487",
         null,
         "2003",
         "Europe",
         "Gasoline",
         "Front-wheel drive",
         "1.0",
         "14.735962194497768"
        ],
        [
         "19",
         "180",
         "1.0",
         "126.0",
         "2986.958657420011",
         "17.9",
         "2004",
         "Europe",
         "Gasoline",
         "All-wheel drive",
         "-1.0",
         "15.097137105104313"
        ],
        [
         "20",
         "150",
         "3.0",
         "197.0",
         "2231.8081416029345",
         "18.7",
         "2011",
         "Asia",
         "Gasoline",
         "Front-wheel drive",
         "1.0",
         "18.88908257097108"
        ],
        [
         "21",
         "160",
         "4.0",
         "133.0",
         "2659.431450757995",
         null,
         "2016",
         "Asia",
         "Gasoline",
         "Front-wheel drive",
         "-1.0",
         "16.077730214491176"
        ],
        [
         "22",
         "190",
         "1.0",
         "144.0",
         "2438.842125555246",
         "16.4",
         "2016",
         "Europe",
         "Diesel",
         "Front-wheel drive",
         "1.0",
         "17.08040493384839"
        ],
        [
         "23",
         "230",
         "2.0",
         "160.0",
         "3342.6060274901347",
         "12.9",
         "2009",
         "Europe",
         "Gasoline",
         "All-wheel drive",
         "0.0",
         "13.7383805846665"
        ],
        [
         "24",
         "260",
         "3.0",
         "156.0",
         "4267.390497388771",
         "20.0",
         "2004",
         "USA",
         "Diesel",
         "Front-wheel drive",
         "1.0",
         "7.853194329416397"
        ],
        [
         "25",
         "210",
         "6.0",
         "157.0",
         "2860.206191293806",
         "12.6",
         "2013",
         "USA",
         "Gasoline",
         "All-wheel drive",
         null,
         "15.906421807842523"
        ],
        [
         "26",
         "180",
         "8.0",
         "160.0",
         "3080.170161717871",
         "10.6",
         "2002",
         "USA",
         "Diesel",
         "All-wheel drive",
         "2.0",
         "15.089880004688071"
        ],
        [
         "27",
         "120",
         "6.0",
         "206.0",
         "3467.355490131792",
         "18.3",
         "2016",
         "USA",
         "Gasoline",
         "Front-wheel drive",
         "-1.0",
         "13.04899290040456"
        ],
        [
         "28",
         "220",
         "4.0",
         "154.0",
         "3335.0681874881448",
         "14.8",
         "2005",
         "USA",
         "Diesel",
         "All-wheel drive",
         "-1.0",
         "13.411265956371402"
        ],
        [
         "29",
         "230",
         "4.0",
         "132.0",
         "2479.7829741497544",
         "15.6",
         "2014",
         "Europe",
         "Diesel",
         "All-wheel drive",
         "0.0",
         "17.34901126810939"
        ],
        [
         "30",
         "280",
         "5.0",
         "140.0",
         "2598.598215530185",
         "17.1",
         "2022",
         "USA",
         "Gasoline",
         "Front-wheel drive",
         "0.0",
         "16.852517863788954"
        ],
        [
         "31",
         "160",
         "4.0",
         "153.0",
         "3106.306111675653",
         "15.8",
         "2000",
         "Europe",
         "Gasoline",
         "All-wheel drive",
         "-1.0",
         "14.04564452468013"
        ],
        [
         "32",
         "40",
         "5.0",
         "136.0",
         "3619.370730176663",
         "19.5",
         "2017",
         "Europe",
         "Gasoline",
         "All-wheel drive",
         "-1.0",
         "11.02937073424243"
        ],
        [
         "33",
         "200",
         "4.0",
         "168.0",
         "2946.9791685788814",
         "18.6",
         "2001",
         "USA",
         "Diesel",
         "Front-wheel drive",
         "0.0",
         "15.76758556294088"
        ],
        [
         "34",
         "150",
         "2.0",
         "149.0",
         "2844.2275338857653",
         "17.3",
         "2014",
         "Asia",
         "Diesel",
         "Front-wheel drive",
         "0.0",
         "15.353788201522017"
        ],
        [
         "35",
         "160",
         "3.0",
         "127.0",
         "2961.158679125447",
         "14.8",
         "2004",
         "USA",
         "Gasoline",
         "Front-wheel drive",
         "0.0",
         "14.671771671571785"
        ],
        [
         "36",
         "200",
         "5.0",
         "143.0",
         "3040.2365213942894",
         "14.2",
         "2006",
         "USA",
         "Diesel",
         "All-wheel drive",
         "-1.0",
         "15.01132504011616"
        ],
        [
         "37",
         "80",
         "3.0",
         "132.0",
         "3444.8921095893515",
         "17.2",
         "2023",
         "Europe",
         "Gasoline",
         "Front-wheel drive",
         "-1.0",
         "11.704658142342613"
        ],
        [
         "38",
         "190",
         "5.0",
         "158.0",
         "3761.9940381922206",
         null,
         "2019",
         "Asia",
         "Gasoline",
         "Front-wheel drive",
         "1.0",
         "11.645724047561528"
        ],
        [
         "39",
         "240",
         "6.0",
         "176.0",
         "2676.886843633655",
         "14.5",
         "2002",
         "Europe",
         "Gasoline",
         "Front-wheel drive",
         "-1.0",
         "17.322851581349216"
        ],
        [
         "40",
         "110",
         "1.0",
         "108.0",
         "2292.675257052191",
         "14.5",
         "2015",
         "Europe",
         "Gasoline",
         "Front-wheel drive",
         "0.0",
         "18.63000885913826"
        ],
        [
         "41",
         "230",
         "2.0",
         "125.0",
         "2563.9027023821623",
         "18.1",
         "2008",
         "Europe",
         "Gasoline",
         "All-wheel drive",
         "0.0",
         "16.890273538222665"
        ],
        [
         "42",
         "240",
         "4.0",
         "123.0",
         "2612.0154112627533",
         "10.5",
         "2013",
         "USA",
         "Diesel",
         "Front-wheel drive",
         "-1.0",
         "16.416020840488873"
        ],
        [
         "43",
         "170",
         "4.0",
         "123.0",
         "2957.6811098887447",
         "14.4",
         "2012",
         "Asia",
         "Diesel",
         "All-wheel drive",
         "-1.0",
         "15.039796931634644"
        ],
        [
         "44",
         "240",
         "2.0",
         "142.0",
         "2544.516801769428",
         "12.9",
         "2016",
         "Asia",
         "Gasoline",
         "All-wheel drive",
         "0.0",
         "17.600327865900464"
        ],
        [
         "45",
         "380",
         null,
         "139.0",
         "1833.1964030710933",
         "16.7",
         "2022",
         "USA",
         "Gasoline",
         "Front-wheel drive",
         "-1.0",
         "20.728616942029674"
        ],
        [
         "46",
         "190",
         "4.0",
         "170.0",
         "2607.6950038058926",
         "20.8",
         "2019",
         "USA",
         "Diesel",
         "Front-wheel drive",
         "1.0",
         "15.932777017483826"
        ],
        [
         "47",
         "270",
         "1.0",
         "135.0",
         "3858.9146336751146",
         null,
         "2006",
         "Europe",
         "Gasoline",
         "Front-wheel drive",
         "2.0",
         "10.0898180828745"
        ],
        [
         "48",
         "190",
         "5.0",
         "202.0",
         "2531.185247040718",
         "16.2",
         "2016",
         "Asia",
         "Gasoline",
         "All-wheel drive",
         "0.0",
         "17.983505227568678"
        ],
        [
         "49",
         "140",
         "7.0",
         "99.0",
         "3602.664482911108",
         "17.0",
         "2015",
         "Europe",
         "Gasoline",
         "All-wheel drive",
         "1.0",
         "11.25726765887053"
        ]
       ],
       "shape": {
        "columns": 11,
        "rows": 9704
       }
      },
      "text/html": [
       "<div>\n",
       "<style scoped>\n",
       "    .dataframe tbody tr th:only-of-type {\n",
       "        vertical-align: middle;\n",
       "    }\n",
       "\n",
       "    .dataframe tbody tr th {\n",
       "        vertical-align: top;\n",
       "    }\n",
       "\n",
       "    .dataframe thead th {\n",
       "        text-align: right;\n",
       "    }\n",
       "</style>\n",
       "<table border=\"1\" class=\"dataframe\">\n",
       "  <thead>\n",
       "    <tr style=\"text-align: right;\">\n",
       "      <th></th>\n",
       "      <th>engine_displacement</th>\n",
       "      <th>num_cylinders</th>\n",
       "      <th>horsepower</th>\n",
       "      <th>vehicle_weight</th>\n",
       "      <th>acceleration</th>\n",
       "      <th>model_year</th>\n",
       "      <th>origin</th>\n",
       "      <th>fuel_type</th>\n",
       "      <th>drivetrain</th>\n",
       "      <th>num_doors</th>\n",
       "      <th>fuel_efficiency_mpg</th>\n",
       "    </tr>\n",
       "  </thead>\n",
       "  <tbody>\n",
       "    <tr>\n",
       "      <th>0</th>\n",
       "      <td>170</td>\n",
       "      <td>3.0</td>\n",
       "      <td>159.0</td>\n",
       "      <td>3413.433759</td>\n",
       "      <td>17.7</td>\n",
       "      <td>2003</td>\n",
       "      <td>Europe</td>\n",
       "      <td>Gasoline</td>\n",
       "      <td>All-wheel drive</td>\n",
       "      <td>0.0</td>\n",
       "      <td>13.231729</td>\n",
       "    </tr>\n",
       "    <tr>\n",
       "      <th>1</th>\n",
       "      <td>130</td>\n",
       "      <td>5.0</td>\n",
       "      <td>97.0</td>\n",
       "      <td>3149.664934</td>\n",
       "      <td>17.8</td>\n",
       "      <td>2007</td>\n",
       "      <td>USA</td>\n",
       "      <td>Gasoline</td>\n",
       "      <td>Front-wheel drive</td>\n",
       "      <td>0.0</td>\n",
       "      <td>13.688217</td>\n",
       "    </tr>\n",
       "    <tr>\n",
       "      <th>2</th>\n",
       "      <td>170</td>\n",
       "      <td>NaN</td>\n",
       "      <td>78.0</td>\n",
       "      <td>3079.038997</td>\n",
       "      <td>15.1</td>\n",
       "      <td>2018</td>\n",
       "      <td>Europe</td>\n",
       "      <td>Gasoline</td>\n",
       "      <td>Front-wheel drive</td>\n",
       "      <td>0.0</td>\n",
       "      <td>14.246341</td>\n",
       "    </tr>\n",
       "    <tr>\n",
       "      <th>3</th>\n",
       "      <td>220</td>\n",
       "      <td>4.0</td>\n",
       "      <td>NaN</td>\n",
       "      <td>2542.392402</td>\n",
       "      <td>20.2</td>\n",
       "      <td>2009</td>\n",
       "      <td>USA</td>\n",
       "      <td>Diesel</td>\n",
       "      <td>All-wheel drive</td>\n",
       "      <td>2.0</td>\n",
       "      <td>16.912736</td>\n",
       "    </tr>\n",
       "    <tr>\n",
       "      <th>4</th>\n",
       "      <td>210</td>\n",
       "      <td>1.0</td>\n",
       "      <td>140.0</td>\n",
       "      <td>3460.870990</td>\n",
       "      <td>14.4</td>\n",
       "      <td>2009</td>\n",
       "      <td>Europe</td>\n",
       "      <td>Gasoline</td>\n",
       "      <td>All-wheel drive</td>\n",
       "      <td>2.0</td>\n",
       "      <td>12.488369</td>\n",
       "    </tr>\n",
       "    <tr>\n",
       "      <th>...</th>\n",
       "      <td>...</td>\n",
       "      <td>...</td>\n",
       "      <td>...</td>\n",
       "      <td>...</td>\n",
       "      <td>...</td>\n",
       "      <td>...</td>\n",
       "      <td>...</td>\n",
       "      <td>...</td>\n",
       "      <td>...</td>\n",
       "      <td>...</td>\n",
       "      <td>...</td>\n",
       "    </tr>\n",
       "    <tr>\n",
       "      <th>9699</th>\n",
       "      <td>140</td>\n",
       "      <td>5.0</td>\n",
       "      <td>164.0</td>\n",
       "      <td>2981.107371</td>\n",
       "      <td>17.3</td>\n",
       "      <td>2013</td>\n",
       "      <td>Europe</td>\n",
       "      <td>Diesel</td>\n",
       "      <td>Front-wheel drive</td>\n",
       "      <td>NaN</td>\n",
       "      <td>15.101802</td>\n",
       "    </tr>\n",
       "    <tr>\n",
       "      <th>9700</th>\n",
       "      <td>180</td>\n",
       "      <td>NaN</td>\n",
       "      <td>154.0</td>\n",
       "      <td>2439.525729</td>\n",
       "      <td>15.0</td>\n",
       "      <td>2004</td>\n",
       "      <td>USA</td>\n",
       "      <td>Gasoline</td>\n",
       "      <td>All-wheel drive</td>\n",
       "      <td>0.0</td>\n",
       "      <td>17.962326</td>\n",
       "    </tr>\n",
       "    <tr>\n",
       "      <th>9701</th>\n",
       "      <td>220</td>\n",
       "      <td>2.0</td>\n",
       "      <td>138.0</td>\n",
       "      <td>2583.471318</td>\n",
       "      <td>15.1</td>\n",
       "      <td>2008</td>\n",
       "      <td>USA</td>\n",
       "      <td>Diesel</td>\n",
       "      <td>All-wheel drive</td>\n",
       "      <td>-1.0</td>\n",
       "      <td>17.186587</td>\n",
       "    </tr>\n",
       "    <tr>\n",
       "      <th>9702</th>\n",
       "      <td>230</td>\n",
       "      <td>4.0</td>\n",
       "      <td>177.0</td>\n",
       "      <td>2905.527390</td>\n",
       "      <td>19.4</td>\n",
       "      <td>2011</td>\n",
       "      <td>USA</td>\n",
       "      <td>Diesel</td>\n",
       "      <td>Front-wheel drive</td>\n",
       "      <td>1.0</td>\n",
       "      <td>15.331551</td>\n",
       "    </tr>\n",
       "    <tr>\n",
       "      <th>9703</th>\n",
       "      <td>270</td>\n",
       "      <td>3.0</td>\n",
       "      <td>140.0</td>\n",
       "      <td>2908.043477</td>\n",
       "      <td>14.7</td>\n",
       "      <td>2005</td>\n",
       "      <td>Asia</td>\n",
       "      <td>Diesel</td>\n",
       "      <td>All-wheel drive</td>\n",
       "      <td>-1.0</td>\n",
       "      <td>14.884467</td>\n",
       "    </tr>\n",
       "  </tbody>\n",
       "</table>\n",
       "<p>9704 rows × 11 columns</p>\n",
       "</div>"
      ],
      "text/plain": [
       "      engine_displacement  num_cylinders  horsepower  vehicle_weight  \\\n",
       "0                     170            3.0       159.0     3413.433759   \n",
       "1                     130            5.0        97.0     3149.664934   \n",
       "2                     170            NaN        78.0     3079.038997   \n",
       "3                     220            4.0         NaN     2542.392402   \n",
       "4                     210            1.0       140.0     3460.870990   \n",
       "...                   ...            ...         ...             ...   \n",
       "9699                  140            5.0       164.0     2981.107371   \n",
       "9700                  180            NaN       154.0     2439.525729   \n",
       "9701                  220            2.0       138.0     2583.471318   \n",
       "9702                  230            4.0       177.0     2905.527390   \n",
       "9703                  270            3.0       140.0     2908.043477   \n",
       "\n",
       "      acceleration  model_year  origin fuel_type         drivetrain  \\\n",
       "0             17.7        2003  Europe  Gasoline    All-wheel drive   \n",
       "1             17.8        2007     USA  Gasoline  Front-wheel drive   \n",
       "2             15.1        2018  Europe  Gasoline  Front-wheel drive   \n",
       "3             20.2        2009     USA    Diesel    All-wheel drive   \n",
       "4             14.4        2009  Europe  Gasoline    All-wheel drive   \n",
       "...            ...         ...     ...       ...                ...   \n",
       "9699          17.3        2013  Europe    Diesel  Front-wheel drive   \n",
       "9700          15.0        2004     USA  Gasoline    All-wheel drive   \n",
       "9701          15.1        2008     USA    Diesel    All-wheel drive   \n",
       "9702          19.4        2011     USA    Diesel  Front-wheel drive   \n",
       "9703          14.7        2005    Asia    Diesel    All-wheel drive   \n",
       "\n",
       "      num_doors  fuel_efficiency_mpg  \n",
       "0           0.0            13.231729  \n",
       "1           0.0            13.688217  \n",
       "2           0.0            14.246341  \n",
       "3           2.0            16.912736  \n",
       "4           2.0            12.488369  \n",
       "...         ...                  ...  \n",
       "9699        NaN            15.101802  \n",
       "9700        0.0            17.962326  \n",
       "9701       -1.0            17.186587  \n",
       "9702        1.0            15.331551  \n",
       "9703       -1.0            14.884467  \n",
       "\n",
       "[9704 rows x 11 columns]"
      ]
     },
     "execution_count": 15,
     "metadata": {},
     "output_type": "execute_result"
    }
   ],
   "source": [
    "data"
   ]
  },
  {
   "cell_type": "code",
   "execution_count": 14,
   "id": "28f6b72a",
   "metadata": {},
   "outputs": [
    {
     "data": {
      "text/plain": [
       "np.float64(23.759122836520497)"
      ]
     },
     "execution_count": 14,
     "metadata": {},
     "output_type": "execute_result"
    }
   ],
   "source": [
    "data[data['origin'] == 'Asia']['fuel_efficiency_mpg'].max()"
   ]
  },
  {
   "cell_type": "markdown",
   "id": "54c5d6d7",
   "metadata": {},
   "source": [
    "# Q6. Median value of horsepower\n",
    "1. Find the median value of the horsepower column in the dataset.\n",
    "2. Next, calculate the most frequent value of the same horsepower column.\n",
    "3. Use the fillna method to fill the missing values in the horsepower column with the most frequent value from the previous step.\n",
    "4. Now, calculate the median value of horsepower once again."
   ]
  },
  {
   "cell_type": "code",
   "execution_count": 17,
   "id": "ccd4a77e",
   "metadata": {},
   "outputs": [
    {
     "data": {
      "text/plain": [
       "np.float64(149.0)"
      ]
     },
     "execution_count": 17,
     "metadata": {},
     "output_type": "execute_result"
    }
   ],
   "source": [
    "medi = data['horsepower'].median()\n",
    "medi"
   ]
  },
  {
   "cell_type": "code",
   "execution_count": 18,
   "id": "dc4c2c44",
   "metadata": {},
   "outputs": [
    {
     "data": {
      "application/vnd.microsoft.datawrangler.viewer.v0+json": {
       "columns": [
        {
         "name": "index",
         "rawType": "int64",
         "type": "integer"
        },
        {
         "name": "horsepower",
         "rawType": "float64",
         "type": "float"
        }
       ],
       "ref": "165baba9-1030-4424-bc48-d431f25cf1f5",
       "rows": [
        [
         "0",
         "152.0"
        ]
       ],
       "shape": {
        "columns": 1,
        "rows": 1
       }
      },
      "text/plain": [
       "0    152.0\n",
       "Name: horsepower, dtype: float64"
      ]
     },
     "execution_count": 18,
     "metadata": {},
     "output_type": "execute_result"
    }
   ],
   "source": [
    "data['horsepower'].mode()"
   ]
  },
  {
   "cell_type": "code",
   "execution_count": 19,
   "id": "f271d898",
   "metadata": {},
   "outputs": [],
   "source": [
    "data['horsepower'] = data['horsepower'].fillna(data['horsepower'].mode()[0])    "
   ]
  },
  {
   "cell_type": "code",
   "execution_count": 20,
   "id": "2eccac0d",
   "metadata": {},
   "outputs": [
    {
     "data": {
      "text/plain": [
       "np.float64(152.0)"
      ]
     },
     "execution_count": 20,
     "metadata": {},
     "output_type": "execute_result"
    }
   ],
   "source": [
    "data['horsepower'].median()"
   ]
  },
  {
   "cell_type": "markdown",
   "id": "a722a5f1",
   "metadata": {},
   "source": [
    "# Q7. Sum of weights\n",
    "1. Select all the cars from Asia\n",
    "2. Select only columns vehicle_weight and model_year\n",
    "3. Select the first 7 values\n",
    "4. Get the underlying NumPy array. Let's call it X.\n",
    "5. Compute matrix-matrix multiplication between the transpose of X and X. To get the transpose, use X.T. Let's call the result XTX.\n",
    "6. Invert XTX.\n",
    "7. Create an array y with values [1100, 1300, 800, 900, 1000, 1100, 1200].\n",
    "8. Multiply the inverse of XTX with the transpose of X, and then multiply the result by y. Call the result w.\n",
    "9. What's the sum of all the elements of the result?"
   ]
  },
  {
   "cell_type": "code",
   "execution_count": 28,
   "id": "840a98d6",
   "metadata": {},
   "outputs": [],
   "source": [
    "x = data[data['origin']=='Asia'][['vehicle_weight','model_year']].head(7)\n"
   ]
  },
  {
   "cell_type": "code",
   "execution_count": 31,
   "id": "ee6e6fe2",
   "metadata": {},
   "outputs": [],
   "source": [
    "# Compute matrix-matrix multiplication between X\n",
    "XTX = x.T.dot(x)\n",
    "#invert XTX\n",
    "XTX_inv = np.linalg.inv(XTX)"
   ]
  },
  {
   "cell_type": "code",
   "execution_count": null,
   "id": "618b574f",
   "metadata": {},
   "outputs": [
    {
     "data": {
      "text/plain": [
       "np.float64(0.5187709081074016)"
      ]
     },
     "execution_count": 34,
     "metadata": {},
     "output_type": "execute_result"
    }
   ],
   "source": [
    "y = np.array([1100, 1300, 800, 900, 1000, 1100, 1200])\n",
    "w = XTX_inv.dot(x.T).dot(y)\n",
    "sum_of_weights = w.sum()\n",
    "sum_of_weights"
   ]
  },
  {
   "cell_type": "code",
   "execution_count": null,
   "id": "3e9a9072",
   "metadata": {},
   "outputs": [],
   "source": []
  }
 ],
 "metadata": {
  "kernelspec": {
   "display_name": "machine-learning-zoomcamp (3.11.13)",
   "language": "python",
   "name": "python3"
  },
  "language_info": {
   "codemirror_mode": {
    "name": "ipython",
    "version": 3
   },
   "file_extension": ".py",
   "mimetype": "text/x-python",
   "name": "python",
   "nbconvert_exporter": "python",
   "pygments_lexer": "ipython3",
   "version": "3.11.13"
  }
 },
 "nbformat": 4,
 "nbformat_minor": 5
}
